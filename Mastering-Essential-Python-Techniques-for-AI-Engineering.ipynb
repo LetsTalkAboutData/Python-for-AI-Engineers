{
 "cells": [
  {
   "cell_type": "markdown",
   "id": "67e99ce3-5b44-45b9-958b-b2c7703c1935",
   "metadata": {},
   "source": [
    "**For Loop**"
   ]
  },
  {
   "cell_type": "code",
   "execution_count": 1,
   "id": "9e78bb41-838d-43eb-a8c4-8dbaf0d223a8",
   "metadata": {},
   "outputs": [
    {
     "name": "stdout",
     "output_type": "stream",
     "text": [
      "Filtered (for loop): [2, 4, 6]\n"
     ]
    }
   ],
   "source": [
    "data = [1, 2, 3, 4, 5, 6]\n",
    "filtered = []\n",
    "for item in data:\n",
    "    if item % 2 == 0:\n",
    "        filtered.append(item)\n",
    "print(\"Filtered (for loop):\", filtered)"
   ]
  },
  {
   "cell_type": "markdown",
   "id": "af5e09fe-383b-44c9-9ce0-72a8eae4a689",
   "metadata": {},
   "source": [
    "**List Comprehension**"
   ]
  },
  {
   "cell_type": "code",
   "execution_count": 2,
   "id": "631dafa5-3a1a-40ae-a5f9-ae0073c57c46",
   "metadata": {},
   "outputs": [
    {
     "name": "stdout",
     "output_type": "stream",
     "text": [
      "Filtered (list comprehension): [2, 4, 6]\n"
     ]
    }
   ],
   "source": [
    "# List comprehension\n",
    "filtered_comp = [item for item in data if item % 2 == 0]\n",
    "print(\"Filtered (list comprehension):\", filtered_comp)"
   ]
  },
  {
   "cell_type": "markdown",
   "id": "04c17eac-7659-4166-829a-933c96ae16de",
   "metadata": {},
   "source": [
    "**Function**"
   ]
  },
  {
   "cell_type": "code",
   "execution_count": 3,
   "id": "a7f8f1a5-96ac-4378-a2ae-59aa5711cdf7",
   "metadata": {},
   "outputs": [
    {
     "name": "stdout",
     "output_type": "stream",
     "text": [
      "Processing img1.jpg\n"
     ]
    }
   ],
   "source": [
    "def process_image(image_path):\n",
    "    print(f\"Processing {image_path}\")\n",
    "\n",
    "process_image(\"img1.jpg\")"
   ]
  },
  {
   "cell_type": "markdown",
   "id": "73e503fa-10e8-4c31-b85b-31504d50e326",
   "metadata": {},
   "source": [
    "**Class**"
   ]
  },
  {
   "cell_type": "code",
   "execution_count": 4,
   "id": "96098580-386b-4cf8-878b-f599f0cec826",
   "metadata": {},
   "outputs": [
    {
     "name": "stdout",
     "output_type": "stream",
     "text": [
      "Processing img2.jpg\n"
     ]
    }
   ],
   "source": [
    "class ImageProcessor:\n",
    "    def __init__(self, image_path):\n",
    "        self.image_path = image_path\n",
    "\n",
    "    def process(self):\n",
    "        print(f\"Processing {self.image_path}\")\n",
    "\n",
    "img = ImageProcessor(\"img2.jpg\")\n",
    "img.process()"
   ]
  },
  {
   "cell_type": "markdown",
   "id": "564a936c-8b3b-426c-b26f-3b065bf89b2c",
   "metadata": {},
   "source": [
    "**Without Type Hints**"
   ]
  },
  {
   "cell_type": "code",
   "execution_count": 5,
   "id": "d2b078b9-2dc9-4dca-b222-014b56fea488",
   "metadata": {},
   "outputs": [
    {
     "name": "stdout",
     "output_type": "stream",
     "text": [
      "15\n"
     ]
    }
   ],
   "source": [
    "def add(x, y):\n",
    "    return x + y\n",
    "\n",
    "print(add(5, 10))"
   ]
  },
  {
   "cell_type": "markdown",
   "id": "bcfe37f6-429d-46ec-9b8e-9bb64b5b24ad",
   "metadata": {},
   "source": [
    "**With Type Hints**"
   ]
  },
  {
   "cell_type": "code",
   "execution_count": 6,
   "id": "d6c44217-9f28-4f9a-a75c-269cb7da600c",
   "metadata": {},
   "outputs": [
    {
     "name": "stdout",
     "output_type": "stream",
     "text": [
      "15\n"
     ]
    }
   ],
   "source": [
    "def add_typed(x: int, y: int) -> int:\n",
    "    return x + y\n",
    "\n",
    "print(add_typed(5, 10))"
   ]
  },
  {
   "cell_type": "markdown",
   "id": "fa460ea9-2809-4e11-ba39-ada97d837312",
   "metadata": {},
   "source": [
    "**Decorators**"
   ]
  },
  {
   "cell_type": "code",
   "execution_count": 7,
   "id": "a072b483-65ec-466d-8439-d3c4aa7e7ddd",
   "metadata": {},
   "outputs": [
    {
     "name": "stdout",
     "output_type": "stream",
     "text": [
      "Data processed.\n",
      "process_data ran in 1.0027s\n"
     ]
    }
   ],
   "source": [
    "import time\n",
    "\n",
    "def timer(func):\n",
    "    def wrapper(*args, **kwargs):\n",
    "        start = time.time()\n",
    "        result = func(*args, **kwargs)\n",
    "        end = time.time()\n",
    "        print(f\"{func.__name__} ran in {end - start:.4f}s\")\n",
    "        return result\n",
    "    return wrapper\n",
    "\n",
    "@timer\n",
    "def process_data():\n",
    "    time.sleep(1)  # Simulate processing\n",
    "    print(\"Data processed.\")\n",
    "\n",
    "process_data()"
   ]
  },
  {
   "cell_type": "markdown",
   "id": "bbafbd03-5869-4319-9c5f-866759c1b59e",
   "metadata": {},
   "source": [
    "**print()**"
   ]
  },
  {
   "cell_type": "code",
   "execution_count": 8,
   "id": "21d5673a-66a8-4750-8ca7-00ea977c0936",
   "metadata": {},
   "outputs": [
    {
     "name": "stdout",
     "output_type": "stream",
     "text": [
      "An error occurred\n"
     ]
    }
   ],
   "source": [
    "print(\"An error occurred\")"
   ]
  },
  {
   "cell_type": "markdown",
   "id": "c048ba6b-5f3d-44cd-8d9c-1fcc959e810b",
   "metadata": {},
   "source": [
    "**Logging**"
   ]
  },
  {
   "cell_type": "code",
   "execution_count": 9,
   "id": "0bd14ae5-51d5-447b-b08c-26c59726be82",
   "metadata": {},
   "outputs": [
    {
     "name": "stderr",
     "output_type": "stream",
     "text": [
      "INFO:root:This is an info message\n",
      "ERROR:root:This is an error message\n"
     ]
    }
   ],
   "source": [
    "import logging\n",
    "\n",
    "logging.basicConfig(level=logging.INFO)\n",
    "logging.info(\"This is an info message\")\n",
    "logging.error(\"This is an error message\")\n",
    "logging.debug(\"This is a debug message\")"
   ]
  },
  {
   "cell_type": "markdown",
   "id": "008b2b23-b68d-4e33-8c17-da1c87aeae72",
   "metadata": {},
   "source": [
    "**Lists for Large Data**"
   ]
  },
  {
   "cell_type": "code",
   "execution_count": 10,
   "id": "8aad79b6-4867-454e-a825-61a75ec998bd",
   "metadata": {},
   "outputs": [],
   "source": [
    "def load_all_images():\n",
    "    return [f\"Image_{i}\" for i in range(1000000)]  # Loads all at once (memory heavy)"
   ]
  },
  {
   "cell_type": "markdown",
   "id": "bf570da0-c7e8-4113-8c7c-f0a8b97f82a8",
   "metadata": {},
   "source": [
    "**Generators for Large Data**"
   ]
  },
  {
   "cell_type": "code",
   "execution_count": 11,
   "id": "bd2e546b-76e3-47bd-b34a-c58e8a37882e",
   "metadata": {},
   "outputs": [
    {
     "name": "stdout",
     "output_type": "stream",
     "text": [
      "Image_0\n"
     ]
    }
   ],
   "source": [
    "def load_images_lazy():\n",
    "    for i in range(1000000):\n",
    "        yield f\"Image_{i}\"\n",
    "\n",
    "for img in load_images_lazy():\n",
    "    print(img)  # Simulate processing\n",
    "    break  # Only show first for brevity"
   ]
  },
  {
   "cell_type": "code",
   "execution_count": null,
   "id": "49aa8346-5f6d-4fa7-9c8c-1e28eb37e8c3",
   "metadata": {},
   "outputs": [],
   "source": []
  }
 ],
 "metadata": {
  "kernelspec": {
   "display_name": "Python 3 (ipykernel)",
   "language": "python",
   "name": "python3"
  },
  "language_info": {
   "codemirror_mode": {
    "name": "ipython",
    "version": 3
   },
   "file_extension": ".py",
   "mimetype": "text/x-python",
   "name": "python",
   "nbconvert_exporter": "python",
   "pygments_lexer": "ipython3",
   "version": "3.9.21"
  }
 },
 "nbformat": 4,
 "nbformat_minor": 5
}

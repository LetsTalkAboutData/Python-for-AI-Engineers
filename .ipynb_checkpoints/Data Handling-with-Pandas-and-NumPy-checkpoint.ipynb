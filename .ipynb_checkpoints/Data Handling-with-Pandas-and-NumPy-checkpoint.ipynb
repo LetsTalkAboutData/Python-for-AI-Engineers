{
 "cells": [
  {
   "cell_type": "markdown",
   "id": "2cdc221c-eae4-4149-97e6-41266aa82479",
   "metadata": {},
   "source": [
    "**Cleaning Messy Data with Pandas**"
   ]
  },
  {
   "cell_type": "code",
   "execution_count": 1,
   "id": "36288524-1791-41b8-8f42-45dacd93c7f8",
   "metadata": {},
   "outputs": [
    {
     "name": "stdout",
     "output_type": "stream",
     "text": [
      "<class 'pandas.core.frame.DataFrame'>\n",
      "RangeIndex: 20 entries, 0 to 19\n",
      "Data columns (total 11 columns):\n",
      " #   Column                            Non-Null Count  Dtype \n",
      "---  ------                            --------------  ----- \n",
      " 0   Rank                              20 non-null     int64 \n",
      " 1   Peak                              9 non-null      object\n",
      " 2   All Time Peak                     6 non-null      object\n",
      " 3   Actual gross                      20 non-null     object\n",
      " 4   Adjusted gross (in 2022 dollars)  20 non-null     object\n",
      " 5   Artist                            20 non-null     object\n",
      " 6   Tour title                        20 non-null     object\n",
      " 7   Year(s)                           20 non-null     object\n",
      " 8   Shows                             20 non-null     int64 \n",
      " 9   Average gross                     20 non-null     object\n",
      " 10  Ref.                              20 non-null     object\n",
      "dtypes: int64(2), object(9)\n",
      "memory usage: 1.8+ KB\n",
      "None\n",
      "Rank                                 0\n",
      "Peak                                11\n",
      "All Time Peak                       14\n",
      "Actual gross                         0\n",
      "Adjusted gross (in 2022 dollars)     0\n",
      "Artist                               0\n",
      "Tour title                           0\n",
      "Year(s)                              0\n",
      "Shows                                0\n",
      "Average gross                        0\n",
      "Ref.                                 0\n",
      "dtype: int64\n"
     ]
    }
   ],
   "source": [
    "import pandas as pd\n",
    "\n",
    "# Load dataset\n",
    "df = pd.read_csv(\"wiki.csv\")\n",
    "\n",
    "# Inspect dataset\n",
    "print(df.info())\n",
    "\n",
    "# Visualizing missing values\n",
    "print(df.isnull().sum())"
   ]
  },
  {
   "cell_type": "code",
   "execution_count": 5,
   "id": "5091f462-018e-427e-8009-79f379513033",
   "metadata": {},
   "outputs": [],
   "source": [
    "# Fill missing values with median\n",
    "df_filled = df.fillna(df.median(numeric_only=True))\n",
    "\n",
    "# Drop rows with any missing values\n",
    "df_dropped_rows = df.dropna()\n",
    "\n",
    "# Drop a specific column with many missing values\n",
    "df_dropped_column = df.drop(columns=[\"All Time Peak\"])"
   ]
  },
  {
   "cell_type": "markdown",
   "id": "cfb33777-48e7-41cf-98a8-0d5dcfa4714f",
   "metadata": {},
   "source": [
    "**Numerical Computing with NumPy**"
   ]
  },
  {
   "cell_type": "code",
   "execution_count": 11,
   "id": "3b2d328a-40d4-407e-995d-0bef85844635",
   "metadata": {},
   "outputs": [
    {
     "name": "stdout",
     "output_type": "stream",
     "text": [
      "Element-wise addition:[5 7 9]\n",
      "Broadcasting:[[11 12 13]\n",
      " [14 15 16]]\n",
      "Dot Product:32\n"
     ]
    }
   ],
   "source": [
    "import numpy as np\n",
    "\n",
    "# Create NumPy arrays\n",
    "a = np.array([1, 2, 3])\n",
    "b = np.array([4, 5, 6])\n",
    "\n",
    "# Element-wise addition\n",
    "add_result = a + b \n",
    "\n",
    "# Broadcasting\n",
    "matrix = np.array([[1, 2, 3], [4, 5, 6]])\n",
    "broadcast_result = matrix + 10  # Add 10 to each element\n",
    "\n",
    "# Dot product\n",
    "dot_result = np.dot(a, b)\n",
    "\n",
    "print(f'Element-wise addition:{add_result}')\n",
    "print(f'Broadcasting:{broadcast_result}')\n",
    "print(f'Dot Product:{dot_result}')"
   ]
  },
  {
   "cell_type": "markdown",
   "id": "c9fa1a4a-6d40-4734-9f3c-a81043b1ae07",
   "metadata": {},
   "source": [
    "**Normalize a Matrix with NumPy**"
   ]
  },
  {
   "cell_type": "code",
   "execution_count": 12,
   "id": "1d551feb-18be-4dcd-9da5-87e8ad142c5c",
   "metadata": {},
   "outputs": [
    {
     "name": "stdout",
     "output_type": "stream",
     "text": [
      "Normalized Matrix:\n",
      " [[-1.22474487 -1.22474487]\n",
      " [ 0.          0.        ]\n",
      " [ 1.22474487  1.22474487]]\n"
     ]
    }
   ],
   "source": [
    "# Sample feature matrix\n",
    "X = np.array([[1, 2], [3, 4], [5, 6]])\n",
    "\n",
    "# Normalize (zero mean, unit variance)\n",
    "X_normalized = (X - X.mean(axis=0)) / X.std(axis=0)\n",
    "\n",
    "print(\"Normalized Matrix:\\n\", X_normalized)"
   ]
  },
  {
   "cell_type": "code",
   "execution_count": null,
   "id": "4dbef9f5-b714-40be-b804-56b20e2a23e0",
   "metadata": {},
   "outputs": [],
   "source": []
  }
 ],
 "metadata": {
  "kernelspec": {
   "display_name": "Python 3 (ipykernel)",
   "language": "python",
   "name": "python3"
  },
  "language_info": {
   "codemirror_mode": {
    "name": "ipython",
    "version": 3
   },
   "file_extension": ".py",
   "mimetype": "text/x-python",
   "name": "python",
   "nbconvert_exporter": "python",
   "pygments_lexer": "ipython3",
   "version": "3.9.21"
  }
 },
 "nbformat": 4,
 "nbformat_minor": 5
}

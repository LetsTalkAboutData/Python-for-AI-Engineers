{
 "cells": [
  {
   "cell_type": "code",
   "execution_count": 1,
   "id": "e0ce6188-869f-4fdc-a6f7-0e36f1a4bfc3",
   "metadata": {},
   "outputs": [],
   "source": [
    "import time\n",
    "\n",
    "def process_data_chunk(chunk):\n",
    "    result = 0\n",
    "    for _ in range(1_000_000):\n",
    "        result += sum(c * 0.01 for c in chunk)\n",
    "    return result\n",
    "\n",
    "def analyze_large_dataset(dataset):\n",
    "    total_result = 0\n",
    "    for chunk in dataset:\n",
    "        total_result += process_data_chunk(chunk)\n",
    "    return total_result"
   ]
  },
  {
   "cell_type": "code",
   "execution_count": 2,
   "id": "80511fbd-8422-460f-8089-3cd7a82397f5",
   "metadata": {},
   "outputs": [],
   "source": [
    "import concurrent.futures\n",
    "import time\n",
    "\n",
    "def process_data_chunk(chunk):\n",
    "    result = 0\n",
    "    for _ in range(1_000_000):\n",
    "        result += sum(c * 0.01 for c in chunk)\n",
    "    return result\n",
    "\n",
    "def analyze_large_dataset_parallel(dataset):\n",
    "    total_result = 0\n",
    "    with concurrent.futures.ProcessPoolExecutor() as executor:\n",
    "        futures = [executor.submit(process_data_chunk, chunk) for chunk in dataset]\n",
    "        for future in concurrent.futures.as_completed(futures):\n",
    "            total_result += future.result()\n",
    "    return total_result"
   ]
  },
  {
   "cell_type": "code",
   "execution_count": null,
   "id": "9c7ba9ce-39b2-44c9-8d64-bc5a76dc1006",
   "metadata": {},
   "outputs": [],
   "source": []
  }
 ],
 "metadata": {
  "kernelspec": {
   "display_name": "Python 3 (ipykernel)",
   "language": "python",
   "name": "python3"
  },
  "language_info": {
   "codemirror_mode": {
    "name": "ipython",
    "version": 3
   },
   "file_extension": ".py",
   "mimetype": "text/x-python",
   "name": "python",
   "nbconvert_exporter": "python",
   "pygments_lexer": "ipython3",
   "version": "3.9.21"
  }
 },
 "nbformat": 4,
 "nbformat_minor": 5
}

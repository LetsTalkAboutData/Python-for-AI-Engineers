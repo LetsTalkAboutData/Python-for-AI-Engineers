{
 "cells": [
  {
   "cell_type": "code",
   "execution_count": 1,
   "id": "7c0729b6-e56d-46e7-8087-98fa1364e453",
   "metadata": {},
   "outputs": [],
   "source": [
    "class ModelTrainer:\n",
    "    def __init__(self, model, train_data, val_data, hyperparameters):\n",
    "        self.model = model\n",
    "        self.train_data = train_data\n",
    "        self.val_data = val_data\n",
    "        self.hyperparameters = hyperparameters\n",
    "        self.logger = None"
   ]
  },
  {
   "cell_type": "code",
   "execution_count": 2,
   "id": "2d0225d0-27d0-4d0a-b691-22090c4a258d",
   "metadata": {},
   "outputs": [],
   "source": [
    "class ModelTrainer:\n",
    "    def __init__(self, model, train_data, val_data, hyperparameters):\n",
    "        self.model = model\n",
    "        self.train_data = train_data\n",
    "        self.val_data = val_data\n",
    "        self.hyperparameters = hyperparameters\n",
    "        self.logger = None\n",
    "        \n",
    "    def train(self):\n",
    "        print(\"Starting training...\")\n",
    "        # ...training logic...\n",
    "        print(\"Training complete.\")\n",
    "\n",
    "    def evaluate(self):\n",
    "        print(\"Evaluating model...\")\n",
    "        # ...evaluation logic...\n",
    "        print(\"Evaluation complete.\")\n",
    "        return {}\n",
    "\n",
    "    def log_progress(self, message):\n",
    "        if self.logger:\n",
    "            self.logger.info(message)\n",
    "        else:\n",
    "            print(f\"LOG: {message}\")"
   ]
  },
  {
   "cell_type": "code",
   "execution_count": 3,
   "id": "fc3a5ae2-b833-47d9-9845-52895f25fb05",
   "metadata": {},
   "outputs": [],
   "source": [
    "class ModelTrainer:\n",
    "    def __init__(self, model, train_data, val_data, hyperparameters):\n",
    "        self.model = model\n",
    "        self.train_data = train_data\n",
    "        self.val_data = val_data\n",
    "        self.hyperparameters = hyperparameters\n",
    "        self.logger = None\n",
    "        \n",
    "    def train(self):\n",
    "        self.log_progress(\"Starting training...\")\n",
    "        history = self.model.fit(self.train_data, **self.hyperparameters)\n",
    "        self.log_progress(\"Training complete.\")\n",
    "        return history\n",
    "\n",
    "    def evaluate(self):\n",
    "        self.log_progress(\"Evaluating model...\")\n",
    "        loss, metrics = self.model.evaluate(self.val_data)\n",
    "        self.log_progress(f\"Evaluation results: Loss={loss}, Metrics={metrics}\")\n",
    "        return loss, metrics\n",
    "\n",
    "    def log_progress(self, message):\n",
    "        if self.logger:\n",
    "            self.logger.info(message)\n",
    "        else:\n",
    "            print(f\"LOG: {message}\")"
   ]
  },
  {
   "cell_type": "code",
   "execution_count": null,
   "id": "22966a4d-12f1-4a08-a706-5bfd72a79c8c",
   "metadata": {},
   "outputs": [],
   "source": []
  }
 ],
 "metadata": {
  "kernelspec": {
   "display_name": "Python 3 (ipykernel)",
   "language": "python",
   "name": "python3"
  },
  "language_info": {
   "codemirror_mode": {
    "name": "ipython",
    "version": 3
   },
   "file_extension": ".py",
   "mimetype": "text/x-python",
   "name": "python",
   "nbconvert_exporter": "python",
   "pygments_lexer": "ipython3",
   "version": "3.9.21"
  }
 },
 "nbformat": 4,
 "nbformat_minor": 5
}
